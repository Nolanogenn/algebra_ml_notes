{
 "cells": [
  {
   "cell_type": "markdown",
   "id": "d467b108",
   "metadata": {},
   "source": [
    "#### SETS\n",
    "\n",
    "* sets are well-defined **collections of objects**, each called **elements**.\n",
    "* we denote a set with an upper case italic letter, e.g. _A_"
   ]
  },
  {
   "cell_type": "markdown",
   "id": "23e5ef33",
   "metadata": {},
   "source": [
    "#### BELONGING AND INCLUSION\n",
    "\n",
    "* sets are built using the notion of **belonging**\n",
    "* _a_ belongs to _**A**_ is denoted as a ∈ A\n",
    "* given two sets _A_ and _B_, if every element of _A_ is also an element of _B_, we say that _A_ is a subset of _B_: A ⊂ B"
   ]
  },
  {
   "cell_type": "markdown",
   "id": "2e5e5c4f",
   "metadata": {},
   "source": [
    "#### SET SPECIFICATION\n",
    "\n",
    "* generally, anything we assert about the elements of a set results in **generating a subset**\n",
    "* given for instance the set of all dogs (_D_), if we assert that _d_ is black, we are saying that there is a subset of elements of _D_ for which it is true, and false for the others\n",
    "* such a sentence, generate a subset: B={d∈D:d is black} (: -> 'such that')\n",
    "* **axiom of specification** : _to every set A and every condition S(x) there corresponds a set B whose elements are exactly those elements a ∈ A for which s(x) holds_, where S(x) is a sentence / assertion"
   ]
  },
  {
   "cell_type": "markdown",
   "id": "5854f625",
   "metadata": {},
   "source": [
    "#### ORDERED PAIRS\n",
    "\n",
    "* were have to pairs of sets: unordered and ordered\n",
    "* let us consider a pair of sets _x_ and _y_, an **unordered pair** is a set whose elements are x,y and x,y = y,x (presentation order dose not matter, the set is the same)\n",
    "* in ML we usually deal with **ordered pair**, which means that in (x,y) x is the _first coordinate_ and y the _second coordinate_"
   ]
  },
  {
   "cell_type": "markdown",
   "id": "d198a18f",
   "metadata": {},
   "source": [
    "#### RELATIONS\n",
    "\n",
    "* from ordered pairs, we can derive the idea of **relations** among sets or between elements and sets\n",
    "* relations are defined as setsof ordered pairs, and denoted as _R_\n",
    "* we express the relation as _x R y_\n",
    "* for any _z ∈ R_, there exist _x_ and _y_ such that _z_ = (x,y)\n",
    "* the **domain** is a set defined as the values of x such that for at least one element of y, x has a relation with y \n",
    "* the **range** is defined as the set formed by the values of y such that at least one element of x, x has a relation with y"
   ]
  },
  {
   "cell_type": "markdown",
   "id": "581e85a7",
   "metadata": {},
   "source": [
    "#### FUNCTIONS\n",
    "\n",
    "* given a pair of sets X and Y, we say that a **function** from X to Y is a relation such that:\n",
    "> dom f = X and  \n",
    "> for each x in X there is a unique element of Y with (x,y) ∈ f\n",
    "* we say that a function transform / maps / sends x onto y, and for each argument x there is a unique value y\n"
   ]
  },
  {
   "cell_type": "markdown",
   "id": "7b0839d3",
   "metadata": {},
   "source": [
    "The ultimate goal of ML is learning function from data, i.e. transformations or mappings from the domain onto the range of a function"
   ]
  },
  {
   "cell_type": "code",
   "execution_count": 2,
   "id": "f6c59308",
   "metadata": {},
   "outputs": [
    {
     "data": {
      "text/plain": [
       "ThemeRegistry.enable('dark')"
      ]
     },
     "execution_count": 2,
     "metadata": {},
     "output_type": "execute_result"
    }
   ],
   "source": [
    "# libraries for this section\n",
    "\n",
    "import numpy as np\n",
    "import pandas as pd\n",
    "import altair as alt\n",
    "alt.themes.enable('dark')"
   ]
  },
  {
   "cell_type": "markdown",
   "id": "af06ec05",
   "metadata": {},
   "source": [
    "linear algebra is the study of vectors, which are **ordered finite lists of numbers**, which are used to **represent attributes of entities**\n",
    "_______\n",
    "if we have a vector x = age and a second vector y = weight we can add them together and obtain a third vector z = x + y  \n",
    "we can also multiply 2\\*x to obtain 2x which is, again, a vector\n",
    "_____\n",
    "we have three types of vectors: **geometric vectors**, **polynomials**, and **elements of Rn space**\n",
    "\n",
    "* geometric vectors: oriented segments\n",
    "* a polynomial is an expression adding multiple \"terms\" (nomials) \n",
    "* elements of Rn are a sets of real numbers, which is arguably the most important for applied ML, with n equals the num of dimensions in the vector"
   ]
  },
  {
   "cell_type": "code",
   "execution_count": 2,
   "id": "62bb71cd",
   "metadata": {},
   "outputs": [
    {
     "name": "stdout",
     "output_type": "stream",
     "text": [
      "(3, 1)\n"
     ]
    }
   ],
   "source": [
    "# in numpy the vectors are represented as n-dimensional arrays\n",
    "#this is a vector of R3\n",
    "\n",
    "x = np.array([[1],\n",
    "             [2],\n",
    "             [3]])\n",
    "print(x.shape)"
   ]
  },
  {
   "cell_type": "markdown",
   "id": "ceb90fe2",
   "metadata": {},
   "source": [
    "There are a couple of special vectors worth remembering: zero vector, unit vector and sparse vectors:\n",
    "* zero vectors are vectors composed of zeros and zeros only\n",
    "* unit vectors are vectors composed of a single element equal to one, and the rest are zeros\n",
    "* sparse vectos are vectors with most of its elements equal to zero"
   ]
  },
  {
   "cell_type": "code",
   "execution_count": 7,
   "id": "4499d4d2",
   "metadata": {},
   "outputs": [
    {
     "data": {
      "text/plain": [
       "array([[2],\n",
       "       [4],\n",
       "       [6]])"
      ]
     },
     "execution_count": 7,
     "metadata": {},
     "output_type": "execute_result"
    }
   ],
   "source": [
    "# vector addition\n",
    "x = y = np.array([[1],\n",
    "                 [2],\n",
    "                 [3]])\n",
    "\n",
    "x + y"
   ]
  },
  {
   "cell_type": "code",
   "execution_count": 8,
   "id": "15b6faab",
   "metadata": {},
   "outputs": [
    {
     "data": {
      "text/plain": [
       "array([[2],\n",
       "       [4],\n",
       "       [6]])"
      ]
     },
     "execution_count": 8,
     "metadata": {},
     "output_type": "execute_result"
    }
   ],
   "source": [
    "np.add(x,y)"
   ]
  },
  {
   "cell_type": "code",
   "execution_count": 10,
   "id": "24694032",
   "metadata": {},
   "outputs": [
    {
     "data": {
      "text/plain": [
       "array([[ 5],\n",
       "       [10],\n",
       "       [15]])"
      ]
     },
     "execution_count": 10,
     "metadata": {},
     "output_type": "execute_result"
    }
   ],
   "source": [
    "# vector-scalar multiplication\n",
    "\n",
    "alpha = 5\n",
    "x = np.array([[1],\n",
    "             [2],\n",
    "             [3]])\n",
    "\n",
    "alpha * x"
   ]
  },
  {
   "cell_type": "code",
   "execution_count": 13,
   "id": "64edfbc4",
   "metadata": {},
   "outputs": [
    {
     "data": {
      "text/plain": [
       "array([[16],\n",
       "       [21]])"
      ]
     },
     "execution_count": 13,
     "metadata": {},
     "output_type": "execute_result"
    }
   ],
   "source": [
    "# linear combinations of vectors\n",
    "\n",
    "a, b = 2,3\n",
    "\n",
    "x, y = np.array([[2],[3]]), np.array([[4], [5]])\n",
    "a*x + b*y"
   ]
  },
  {
   "cell_type": "code",
   "execution_count": 17,
   "id": "5ba13367",
   "metadata": {},
   "outputs": [
    {
     "data": {
      "text/plain": [
       "array([[-14]])"
      ]
     },
     "execution_count": 17,
     "metadata": {},
     "output_type": "execute_result"
    }
   ],
   "source": [
    "# vector-vector multiplication is usually called dot product\n",
    "# or inner product\n",
    "# x . y -> [x1 x2] [y1 y2] -> x1*y1 + x2*y2\n",
    "# extremely important for ML\n",
    "\n",
    "x = np.array([[-2],\n",
    "             [2]])\n",
    "y = np.array([[4],\n",
    "             [-3]])\n",
    "\n",
    "#.T transpose x\n",
    "x.T @y\n"
   ]
  },
  {
   "cell_type": "markdown",
   "id": "9790b2c3",
   "metadata": {},
   "source": [
    "if we consider two vectors x and y and two scalars alpha and beta, we obtain the **span** of the vectors by taking all the possible linear combinations of alphax + betay\n",
    "\n",
    "to understand the concept: if x and y overlaps, the span is a line, if they do not overlap the span is a plan, if we have 3 non overlapping vectors the span is the entire hyper plane"
   ]
  },
  {
   "cell_type": "markdown",
   "id": "1c659951",
   "metadata": {},
   "source": [
    "a vector subspace is a vector space that lies within a larger vector space, with three conditions for the subspace:\n",
    "1. contains the zero vector\n",
    "2. closure under moltiplication (i.e. a multiplication does not take the subspace outside the vector space)\n",
    "2. closure under addition (i.e. an addition cannot take the subspace outside the vector space)"
   ]
  },
  {
   "cell_type": "markdown",
   "id": "85d05046",
   "metadata": {},
   "source": [
    "**linear dependence**  \n",
    "- a set of vectors is **linearly dependent** if at least one vector can be obtained as a linear combination of other vectors in the set  \n",
    "- a set of vectors is **linearly independent** if none vector can be obtained as a linear combination of other vectors in the set \n",
    "\n",
    "important point: linearly dependent vectors contain **redundant information**, linearly independent vectors do not\n",
    "\n",
    "**vector null space**  \n",
    "the null space of a set of vectors are all linear combinations that map into the zero vector\n",
    "\n",
    "**vector norms**  \n",
    "the *norm* (or the *length*) of a vector is the distance between its origin and its end\n"
   ]
  },
  {
   "cell_type": "code",
   "execution_count": 21,
   "id": "3e4c4eca",
   "metadata": {},
   "outputs": [],
   "source": [
    "x=np.array([[3],[4]])\n",
    "#euclidean norm\n",
    "eucl = np.linalg.norm(x,2)\n",
    "#manhattan norm\n",
    "manth = np.linalg.norm(x,1)\n",
    "#max norm\n",
    "maxnorm = np.linalg.norm(x, np.inf)"
   ]
  },
  {
   "cell_type": "code",
   "execution_count": 23,
   "id": "1b1cecc8",
   "metadata": {},
   "outputs": [
    {
     "name": "stdout",
     "output_type": "stream",
     "text": [
      "euclidean norm: 5.0\n",
      "manhattan norm: 7.0\n",
      "max norm: 4.0\n"
     ]
    }
   ],
   "source": [
    "print(f\"euclidean norm: {eucl}\\nmanhattan norm: {manth}\\nmax norm: {maxnorm}\")"
   ]
  },
  {
   "cell_type": "code",
   "execution_count": 24,
   "id": "45c4c7de",
   "metadata": {},
   "outputs": [
    {
     "name": "stdout",
     "output_type": "stream",
     "text": [
      "7.0710678118654755\n"
     ]
    }
   ],
   "source": [
    "distance = np.linalg.norm(x-y,2)\n",
    "print(distance)"
   ]
  },
  {
   "cell_type": "markdown",
   "id": "163caf8c",
   "metadata": {},
   "source": [
    "**vector angles and orthogonality**  \n",
    "In ML, the angle between a pair of vectors is used as a measure of vector similarity.  \n",
    "An angle between vectors can be thought as a generalization of the **law of cosine** in trigonometry, which defines for a triangle with sides _a_, _b_ and _c_, and an angle $\\theta$ are related as:  \n",
    "$c^2 = a^2 + b^2 - 2abcos\\theta$  \n",
    "we can replace the expression with vector lengths as:  \n",
    "$||x-y||^2 = ||x||^2 + ||y||^2 -2(||x||||y||)cos\\theta$  \n",
    "which can be cleared as:  \n",
    "$cos\\theta = <x,y>/(||x||||y||)$  \n",
    "this value must be higher or equal to -1 and less or requal +1."
   ]
  },
  {
   "cell_type": "code",
   "execution_count": 5,
   "id": "598fe655",
   "metadata": {},
   "outputs": [
    {
     "name": "stdout",
     "output_type": "stream",
     "text": [
      "cos of the angle: [[0.988]]\n",
      "angle in radiants = [[0.157]]\n"
     ]
    }
   ],
   "source": [
    "#calculate cos of theta between a pair of vectors using NumPy:\n",
    "\n",
    "x, y = np.array([[1],[2]]), np.array([[5],[7]])\n",
    "\n",
    "cos_theta = (x.T @ y) / (np.linalg.norm(x,2) * np.linalg.norm(y,2))\n",
    "\n",
    "print(f\"cos of the angle: {np.round(cos_theta, 3)}\")\n",
    "\n",
    "#to know the actual angel, we need to take the trigonometric inverse of the cosine function:\n",
    "\n",
    "cos_inverse = np.arccos(cos_theta)\n",
    "print(f\"angle in radiants = {np.round(cos_inverse, 3)}\")"
   ]
  },
  {
   "cell_type": "markdown",
   "id": "57fef875",
   "metadata": {},
   "source": [
    "We say that a pair of vectors x and y are **orthogonal** (i.e., independent) if their inner product is zero, in which case we say x ⊥ y (i.e., they are perpendicular)"
   ]
  },
  {
   "cell_type": "code",
   "execution_count": 8,
   "id": "454dbab4",
   "metadata": {},
   "outputs": [
    {
     "name": "stdout",
     "output_type": "stream",
     "text": [
      "[[0.]]\n"
     ]
    }
   ],
   "source": [
    "x = np.array([[2],[0]])\n",
    "y = np.array([[0],[2]])\n",
    "\n",
    "cos_theta = (x.T @ y) / ((np.linalg.norm(x, 2))*(np.linalg.norm(y,2)))\n",
    "print(cos_theta)"
   ]
  },
  {
   "cell_type": "markdown",
   "id": "9e4cb90d",
   "metadata": {},
   "source": [
    "The purpose of linear algebra is to **solve systems of linear equations**, which means multiple equations that have to be solved **simultaneosly**.  \n",
    "For instance, we have the two equations:  \n",
    "$x + 2y = 8$ and  \n",
    "$5x -3y = 1$  \n",
    "The solution is x = 2 and y = 3  \n",
    "\n"
   ]
  },
  {
   "cell_type": "code",
   "execution_count": null,
   "id": "d4934bc9",
   "metadata": {},
   "outputs": [],
   "source": []
  }
 ],
 "metadata": {
  "kernelspec": {
   "display_name": "Python 3 (ipykernel)",
   "language": "python",
   "name": "python3"
  },
  "language_info": {
   "codemirror_mode": {
    "name": "ipython",
    "version": 3
   },
   "file_extension": ".py",
   "mimetype": "text/x-python",
   "name": "python",
   "nbconvert_exporter": "python",
   "pygments_lexer": "ipython3",
   "version": "3.10.4"
  }
 },
 "nbformat": 4,
 "nbformat_minor": 5
}
