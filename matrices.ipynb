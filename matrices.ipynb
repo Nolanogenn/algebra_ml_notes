{
 "cells": [
  {
   "cell_type": "code",
   "execution_count": 1,
   "id": "e718db7c",
   "metadata": {},
   "outputs": [],
   "source": [
    "import numpy as np\n",
    "import pandas as pd\n",
    "import altair as alt"
   ]
  },
  {
   "cell_type": "markdown",
   "id": "eab78a58",
   "metadata": {},
   "source": [
    "A matrix is an ordered **collection of vectors**. we say that a matrix _A_ has _m_ rows and _n_ columns, and each entry of _A_ is defined as $a_{ij} = 1,...,m$ and $j=1,...,n$  \n",
    "In NumPy, we contruct matrices with the array method"
   ]
  },
  {
   "cell_type": "code",
   "execution_count": 2,
   "id": "366e2698",
   "metadata": {},
   "outputs": [
    {
     "name": "stdout",
     "output_type": "stream",
     "text": [
      "[[0 2]\n",
      " [1 4]]\n"
     ]
    }
   ],
   "source": [
    "A = np.array([[0,2],\n",
    "             [1,4]])\n",
    "\n",
    "print(A)"
   ]
  },
  {
   "cell_type": "markdown",
   "id": "be39cf51",
   "metadata": {},
   "source": [
    "### Basic Matrix operations\n",
    "\n",
    "#### Matrix-matrix addition\n",
    "matrices are added in an element-wise fashion, where each cell of _A_ is added to its corresponding cell of _B_"
   ]
  },
  {
   "cell_type": "code",
   "execution_count": 4,
   "id": "fb98c90c",
   "metadata": {},
   "outputs": [
    {
     "name": "stdout",
     "output_type": "stream",
     "text": [
      "[[ 4  7]\n",
      " [12 94]\n",
      " [ 8  9]]\n"
     ]
    }
   ],
   "source": [
    "A = np.array([[0,2],\n",
    "             [2,4],\n",
    "             [8,9]])\n",
    "\n",
    "B = np.array([[4,5],\n",
    "             [10, 90],\n",
    "             [0,0]])\n",
    "\n",
    "result = np.add(A,B)\n",
    "#the same result is given by A+B\n",
    "print(result)"
   ]
  },
  {
   "cell_type": "markdown",
   "id": "f6145e52",
   "metadata": {},
   "source": [
    "#### Matrix-scalar multiplication\n",
    "Matrix-scalar multiplication is an element-wise operation, where each element of _A_ is multiplied by a scalr $\\alpha$"
   ]
  },
  {
   "cell_type": "code",
   "execution_count": 5,
   "id": "f9e2e004",
   "metadata": {},
   "outputs": [
    {
     "name": "stdout",
     "output_type": "stream",
     "text": [
      "[[2 4]\n",
      " [6 8]]\n"
     ]
    }
   ],
   "source": [
    "alpha = 2\n",
    "A = np.array([[1,2],\n",
    "             [3,4]])\n",
    "result = np.multiply(alpha, A)\n",
    "#the same result is given by A*alpha\n",
    "\n",
    "print(result)"
   ]
  },
  {
   "cell_type": "code",
   "execution_count": null,
   "id": "ef642f59",
   "metadata": {},
   "outputs": [],
   "source": []
  }
 ],
 "metadata": {
  "kernelspec": {
   "display_name": "Python 3 (ipykernel)",
   "language": "python",
   "name": "python3"
  },
  "language_info": {
   "codemirror_mode": {
    "name": "ipython",
    "version": 3
   },
   "file_extension": ".py",
   "mimetype": "text/x-python",
   "name": "python",
   "nbconvert_exporter": "python",
   "pygments_lexer": "ipython3",
   "version": "3.10.4"
  }
 },
 "nbformat": 4,
 "nbformat_minor": 5
}
